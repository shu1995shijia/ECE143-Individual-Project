{
 "cells": [
  {
   "cell_type": "markdown",
   "metadata": {},
   "source": [
    "# ECE 143 Individual Project\n",
    "## Analysis of Ad-Hoc Communications Network\n",
    "**Name**: Shijia Shu\n",
    "\n",
    "**Student ID**: A99040010\n"
   ]
  },
  {
   "cell_type": "markdown",
   "metadata": {},
   "source": [
    "## Problem Statement"
   ]
  },
  {
   "cell_type": "markdown",
   "metadata": {},
   "source": [
    "You have been asked to help with planning an ad-hoc communications network over a large rectangular region. Each individual tower can monitor a rectangular subsection of a specific\n",
    "width and height. The main problem is that none of the individual towers can provide\n",
    "coverage for the entire region of interest. Communications towers are unreliable and are put\n",
    "up independently and at random. You have no control over where or how big a tower’s\n",
    "footprint is placed. Importantly, due to technical issues such as cross-talk, no individual\n",
    "rectangular subsection can have multiple towers providing coverage for it. That is, there can\n",
    "be no overlap between any pair of rectangular subsections provided by the two respective\n",
    "towers. In any case, the desire is to maximize the coverage area of any available\n",
    "communications tower.\n",
    "\n",
    "The order of when the towers come online is important. Once a tower has acquired its\n",
    "rectangular section, no subsequent tower can overlap that section. You may assume the\n",
    "following for this problem:\n",
    "* All rectangular sections have integer-based corners.\n",
    "* All rectangular sections must be contained in the overall rectangular footprint.\n",
    "* The height and width of each rectangular section is sampled from a uniform\n",
    "distribution.\n",
    "* Positions of the windows are also determined by uniform random distribution.\n",
    "* All footprints must be rectangles (not general polygons).\n",
    "* When a new tower comes online, if its coverage rectangle intersects the pre-existing\n",
    "composite footprint, then that new tower’s coverage is trimmed such that its\n",
    "maximum remaining coverage area is retained (see sequential diagram below)."
   ]
  },
  {
   "cell_type": "markdown",
   "metadata": {},
   "source": [
    "Write a detailed Jupyter notebook that implements a solution to this problem such that the\n",
    "user can supply the following overall size of desired coverage footprint and then determine\n",
    "the following:\n",
    "* Given an overall desired coverage footprint and a sequence of n communications\n",
    "towers, what is the resulting resolved coverage?\n",
    "* What is the total area of coverage relative to the desired total coverage area of the\n",
    "original footprint? That is, are there any gaps in coverage?\n",
    "* On average, how many communications towers are required before full coverage is\n",
    "obtained?"
   ]
  },
  {
   "cell_type": "markdown",
   "metadata": {},
   "source": [
    "## Analysis on the Problem"
   ]
  },
  {
   "cell_type": "markdown",
   "metadata": {},
   "source": [
    "Approach\n",
    "* Functions\n",
    "    * coverage_generation_random() # Generate a list of towers by inputting the desired coverage. \n",
    "    * coverage_generation() # Generate the coverage map by inputing the desired coverage and a sequence of n  communication towers. \n",
    "        * generate_canvas( ) # To create the canvas based on user input area\n",
    "        * generate_rand_num( ) # numpy.random.choice()\n",
    "        * place_tower() # Update the canvas by placing the tower\n",
    "        * find_max_rect( ) # Find the maximum non-overlappying rectangle on the canva.\n",
    "    * avg_tower_need( ) # Calculate the average number of towers needed for given desired coverage (question 3)\n",
    "    "
   ]
  },
  {
   "cell_type": "markdown",
   "metadata": {},
   "source": [
    "How to Define the desired coverage region and tower coverage?\n"
   ]
  },
  {
   "cell_type": "markdown",
   "metadata": {},
   "source": []
  },
  {
   "cell_type": "markdown",
   "metadata": {},
   "source": [
    "### Functions in adhoc.py module:\n",
    "_Brief description of the function (Details in the adhoc.py module.)_\n",
    "   * **generate_region(length, width)** : To generate the desired coverage region given the length and width\n",
    "   * **generate_rand_num(lower, upper)** :  Randomly select one number from the supplied range/bounds(inclusive). Sampled from a uniform distribution.\n",
    "   * **generate_tower(region_size)** : To generate the tower given the the desired coverage region size (length, width).\n",
    "   * **place_tower(region, tower)** : To directly place the tower on the region of interests and update the coverage.\n",
    "   * **trim_tower(region, tower)**: To trim the overlapping area on the region of interests. \n",
    "       * **find_max_rect(region)** : Helper function to find the largest area of rectangle in the non-overlapping area.\n",
    "           * **max_histogram_area(histogram, row)** : Helper function to use the histogram method to find the largest rectangle. (Explanation in following sections.)\n",
    "   * **full_coverage_generation(region, display=False)** : To keep installing tower till the desired region has been fully covered.\n",
    "   * **coverage_generation(region, tower_num, display=False)** : To install the number of tower on the desired region specified by user.\n"
   ]
  },
  {
   "cell_type": "markdown",
   "metadata": {},
   "source": [
    "## Solution to the Problem"
   ]
  },
  {
   "cell_type": "code",
   "execution_count": 2,
   "metadata": {},
   "outputs": [
    {
     "data": {
      "text/plain": [
       "<module 'adhoc' from '/Users/shijia/Documents/@UCSD/Courses/Spring2018/ECE143/Individual-Project/ECE143-Individual-Project/packages/adhoc.pyc'>"
      ]
     },
     "execution_count": 2,
     "metadata": {},
     "output_type": "execute_result"
    }
   ],
   "source": [
    "import sys\n",
    "import os\n",
    "sys.path.append(os.path.join(os.getcwd(),\"packages\"))\n",
    "import adhoc\n",
    "import numpy as np\n",
    "reload(adhoc)"
   ]
  },
  {
   "cell_type": "code",
   "execution_count": null,
   "metadata": {},
   "outputs": [],
   "source": [
    "region = adhoc.generate_region(10,8)\n",
    "region"
   ]
  },
  {
   "cell_type": "code",
   "execution_count": null,
   "metadata": {},
   "outputs": [],
   "source": [
    "tower = adhoc.generate_tower(region.shape)\n",
    "print tower\n",
    "region_update = adhoc.place_tower(region, tower)\n",
    "region_update"
   ]
  },
  {
   "cell_type": "code",
   "execution_count": null,
   "metadata": {},
   "outputs": [],
   "source": []
  },
  {
   "cell_type": "code",
   "execution_count": null,
   "metadata": {},
   "outputs": [],
   "source": [
    "tower = adhoc.generate_tower(region.shape)\n",
    "print tower\n",
    "region_update = adhoc.place_tower(region_update, tower)\n",
    "region_update"
   ]
  },
  {
   "cell_type": "code",
   "execution_count": null,
   "metadata": {},
   "outputs": [],
   "source": [
    "test = region_update.copy()\n",
    "\n",
    "print test\n",
    "#adhoc.trim_tower(test, tower)"
   ]
  },
  {
   "cell_type": "code",
   "execution_count": null,
   "metadata": {},
   "outputs": [],
   "source": [
    "reload(adhoc)\n",
    "#print test\n",
    "trimmed_tower = adhoc.trim_tower(test, tower)"
   ]
  },
  {
   "cell_type": "code",
   "execution_count": null,
   "metadata": {},
   "outputs": [],
   "source": [
    "reload(adhoc)\n",
    "A = adhoc.update_tower_coverage(region, trimmed_tower)\n",
    "print A\n"
   ]
  },
  {
   "cell_type": "code",
   "execution_count": null,
   "metadata": {},
   "outputs": [],
   "source": [
    "pattern = np.array([[0,0,0,0], [1,0,0,0]])\n",
    "pattern"
   ]
  },
  {
   "cell_type": "code",
   "execution_count": null,
   "metadata": {},
   "outputs": [],
   "source": []
  },
  {
   "cell_type": "code",
   "execution_count": null,
   "metadata": {},
   "outputs": [],
   "source": []
  },
  {
   "cell_type": "code",
   "execution_count": null,
   "metadata": {},
   "outputs": [],
   "source": []
  },
  {
   "cell_type": "code",
   "execution_count": null,
   "metadata": {},
   "outputs": [],
   "source": []
  },
  {
   "cell_type": "markdown",
   "metadata": {},
   "source": [
    "## Testing Cases"
   ]
  },
  {
   "cell_type": "markdown",
   "metadata": {},
   "source": [
    "####  Random Generation"
   ]
  },
  {
   "cell_type": "code",
   "execution_count": null,
   "metadata": {},
   "outputs": [],
   "source": [
    "reload(adhoc)\n",
    "region = adhoc.generate_region(10,10)\n",
    "region"
   ]
  },
  {
   "cell_type": "markdown",
   "metadata": {},
   "source": [
    "#### Place the new tower and trim the coverage to provide the maximum coverage"
   ]
  },
  {
   "cell_type": "code",
   "execution_count": null,
   "metadata": {},
   "outputs": [],
   "source": [
    "%matplotlib tk\n",
    "fig, ax = adhoc.draw_region(region.shape)\n",
    "fig, ax1 = adhoc.draw_region(region.shape)\n"
   ]
  },
  {
   "cell_type": "code",
   "execution_count": null,
   "metadata": {},
   "outputs": [],
   "source": [
    "fig, ax2 = adhoc.draw_region(region.shape)"
   ]
  },
  {
   "cell_type": "code",
   "execution_count": null,
   "metadata": {},
   "outputs": [],
   "source": [
    "# Repeat till the whole region has been covered with communication tower\n",
    "tower = adhoc.generate_tower(region.shape)\n",
    "print \"Tower Generation: \\n\", tower\n",
    "\n",
    "adhoc.draw_tower(ax, tower)\n",
    "\n",
    "region_update = adhoc.place_tower(region, tower)\n",
    "print \"The region after adding tower: \\n\", region_update\n",
    "tower_area, tower_loc_new = adhoc.trim_tower(region_update, tower, show_coverage_update=True)\n",
    "print \"The tower area is: \", tower_area\n",
    "if tower_area != 0:\n",
    "    adhoc.draw_tower(ax1, tower_loc_new)\n",
    "    region = adhoc.place_tower(region, tower_loc_new)\n",
    "print \"The updated region coverage: \\n\", region"
   ]
  },
  {
   "cell_type": "markdown",
   "metadata": {},
   "source": [
    "#### To test coverage_generation function"
   ]
  },
  {
   "cell_type": "code",
   "execution_count": 6,
   "metadata": {},
   "outputs": [
    {
     "name": "stdout",
     "output_type": "stream",
     "text": [
      "2500\n",
      "50\n",
      "Total tower used:  20\n",
      "The overall percentage of coverage area:  63.08 %\n",
      "The total coverage area:  1577\n"
     ]
    }
   ],
   "source": [
    "%matplotlib tk\n",
    "reload(adhoc)\n",
    "region = adhoc.generate_region(50,50)\n",
    "coverage_area, coverage_map, percent_coverage, tower_list = adhoc.coverage_generation(region, tower_num=20 , display=True, debug=False)\n",
    "\n",
    "print \"The total coverage area: \", coverage_area"
   ]
  },
  {
   "cell_type": "code",
   "execution_count": null,
   "metadata": {},
   "outputs": [],
   "source": [
    "tower_list"
   ]
  },
  {
   "cell_type": "code",
   "execution_count": null,
   "metadata": {},
   "outputs": [],
   "source": [
    "reload(adhoc)\n",
    "%matplotlib tk\n",
    "import matplotlib.pyplot as plt\n",
    "tower_1 = {'loc': (45, 60), 'length': 42, 'width': 34}\n",
    "tower_2 = {'loc': (59, 27), 'length': 34, 'width': 25}\n",
    "tower_3 = {'loc': (87, 78), 'length': 5, 'width': 15}\n",
    "tower_add = {'loc': (65, 41), 'length': 33, 'width': 45}\n",
    "\n",
    "region_new = adhoc.generate_region(100,100)\n",
    "fig1, ax1 = adhoc.draw_region(region_new.shape)\n",
    "\n",
    "region_new = adhoc.place_tower(region_new, tower_1)\n",
    "region_new = adhoc.place_tower(region_new, tower_2)\n",
    "region_new = adhoc.place_tower(region_new, tower_3)\n",
    "adhoc.draw_tower(ax1,tower_1)\n",
    "adhoc.draw_tower(ax1,tower_2)\n",
    "adhoc.draw_tower(ax1,tower_3)\n",
    "tmp_region = adhoc.place_tower(region_new, tower_add)\n",
    "\n",
    "patch = np.zeros((33, 45), dtype=int)\n",
    "patch[:] = tmp_region[65 : 65 + 33, 41 : 41 + 45]\n",
    "patch[patch != 1] = 0 # 0 represents used space\n",
    "#patch[patch == 1] = 0 # 1 represents open space\n",
    "#print patch\n",
    "max_rect, max_loc = adhoc.find_max_rect(patch)\n",
    "print \"lala\", max_rect\n",
    "print \"mimi\", max_loc\n",
    "\n",
    "fig2, ax2 = adhoc.draw_region(patch.shape)\n",
    "adhoc.draw_tower(ax2, max_loc)\n",
    "\n",
    "tower_area, tower_new = adhoc.trim_tower(tmp_region, tower=tower_add)\n",
    "print tower_new\n",
    "#region_final = adhoc.place_tower(region_new, tower_new)\n",
    "\n",
    "\n",
    "\n",
    "# print \"Tower area: \", max_rect\n",
    "adhoc.draw_tower(ax1, tower_new)"
   ]
  },
  {
   "cell_type": "code",
   "execution_count": null,
   "metadata": {},
   "outputs": [],
   "source": [
    "reload(adhoc)\n",
    "%matplotlib tk\n",
    "import matplotlib.pyplot as plt\n",
    "tower_1 = {'loc': (2, 3), 'length': 4, 'width': 1}\n",
    "tower_2 = {'loc': (7, 3), 'length': 3, 'width': 6}\n",
    "tower_3 = {'loc': (2, 4), 'length': 2, 'width': 4}\n",
    "tower_4 = {'loc': (4, 5), 'length': 3, 'width': 1}\n",
    "tower_add = {'loc': (1, 1), 'length': 8, 'width': 6}\n",
    "\n",
    "region_new = adhoc.generate_region(10,10)\n",
    "fig1, ax1 = adhoc.draw_region(region_new.shape)\n",
    "\n",
    "region_new = adhoc.place_tower(region_new, tower_1)\n",
    "region_new = adhoc.place_tower(region_new, tower_2)\n",
    "region_new = adhoc.place_tower(region_new, tower_3)\n",
    "region_new = adhoc.place_tower(region_new, tower_4)\n",
    "adhoc.draw_tower(ax1, tower_1)\n",
    "adhoc.draw_tower(ax1, tower_2)\n",
    "adhoc.draw_tower(ax1, tower_3)\n",
    "adhoc.draw_tower(ax1, tower_4)\n",
    "tmp_region = adhoc.place_tower(region_new, tower_add)\n",
    "\n",
    "patch = np.zeros((8, 6), dtype=int)\n",
    "patch[:] = tmp_region[1 : 1 + 8, 1 : 1 + 6]\n",
    "patch[patch != 1] = 0 # 0 represents used space\n",
    "#patch[patch == 1] = 0 # 1 represents open space\n",
    "#print patch\n",
    "max_rect, max_loc = adhoc.find_max_rect(patch)\n",
    "print \"lala\", max_rect\n",
    "print \"mimi\", max_loc\n",
    "\n",
    "fig2, ax2 = adhoc.draw_region(patch.shape)\n",
    "adhoc.draw_tower(ax2, max_loc)\n",
    "\n",
    "# tower_area, tower_new = adhoc.trim_tower(tmp_region, tower=tower_add)\n",
    "# print tower_new\n",
    "# #region_final = adhoc.place_tower(region_new, tower_new)\n",
    "\n",
    "\n",
    "\n",
    "# # print \"Tower area: \", max_rect\n",
    "# adhoc.draw_tower(ax1, tower_new)"
   ]
  },
  {
   "cell_type": "code",
   "execution_count": null,
   "metadata": {},
   "outputs": [],
   "source": [
    "%matplotlib tk\n",
    "print patch.shape\n",
    "plt.imshow(patch)"
   ]
  },
  {
   "cell_type": "code",
   "execution_count": null,
   "metadata": {},
   "outputs": [],
   "source": [
    "a = np.array([ 5, 5, 5,  5,  5,  5,  5,  5,  5,  5,  5, 33, 33, 33, 33, 33, 33, 33, 33, 11, 11, 11, 11, 11, 11,\n",
    " 11, 11, 11, 11, 11, 11, 11, 11, 11, 11, 11, 11,  6,  6,  6,  6,  6,  6,  6,  6])\n",
    "b = np.array([2,2,3,1])\n",
    "max_b, max_loc_b = adhoc.max_histogram_area(a, 1)\n",
    "max_b\n"
   ]
  },
  {
   "cell_type": "markdown",
   "metadata": {},
   "source": [
    "## Conclusion"
   ]
  },
  {
   "cell_type": "code",
   "execution_count": null,
   "metadata": {},
   "outputs": [],
   "source": [
    "region = adhoc.generate_region(10,8)\n",
    "print region\n",
    "tower = adhoc.generate_tower(region_size=(10,8))\n",
    "tower2 = adhoc.generate_tower(region_size=(10,8))\n",
    "print tower\n",
    "adhoc.place_tower(region,tower)"
   ]
  },
  {
   "cell_type": "code",
   "execution_count": null,
   "metadata": {},
   "outputs": [],
   "source": [
    "reload(adhoc)\n",
    "%matplotlib inline\n",
    "fig, ax = adhoc.draw_region(region.shape)\n",
    "# Create figure and axes\n",
    "adhoc.draw_tower(ax, tower)\n",
    "adhoc.draw_tower(ax, tower2)\n",
    "plt.show()"
   ]
  },
  {
   "cell_type": "code",
   "execution_count": null,
   "metadata": {},
   "outputs": [],
   "source": [
    "adhoc.max_histogram_area(np.array([1,2,1,1]),1)"
   ]
  },
  {
   "cell_type": "code",
   "execution_count": null,
   "metadata": {},
   "outputs": [],
   "source": [
    "range(7)"
   ]
  },
  {
   "cell_type": "code",
   "execution_count": null,
   "metadata": {},
   "outputs": [],
   "source": []
  }
 ],
 "metadata": {
  "kernelspec": {
   "display_name": "Python 2",
   "language": "python",
   "name": "python2"
  },
  "language_info": {
   "codemirror_mode": {
    "name": "ipython",
    "version": 2
   },
   "file_extension": ".py",
   "mimetype": "text/x-python",
   "name": "python",
   "nbconvert_exporter": "python",
   "pygments_lexer": "ipython2",
   "version": "2.7.14"
  }
 },
 "nbformat": 4,
 "nbformat_minor": 2
}
