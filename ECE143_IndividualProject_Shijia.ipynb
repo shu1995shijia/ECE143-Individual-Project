{
 "cells": [
  {
   "cell_type": "markdown",
   "metadata": {},
   "source": [
    "# ECE 143 Individual Project\n",
    "## Analysis of Ad-Hoc Communications Network\n",
    "**Name**: Shijia Shu\n",
    "\n",
    "**Student ID**: A99040010\n"
   ]
  },
  {
   "cell_type": "markdown",
   "metadata": {},
   "source": [
    "## Problem Statement"
   ]
  },
  {
   "cell_type": "markdown",
   "metadata": {},
   "source": [
    "You have been asked to help with planning an ad-hoc communications network over a large rectangular region. Each individual tower can monitor a rectangular subsection of a specific\n",
    "width and height. The main problem is that none of the individual towers can provide\n",
    "coverage for the entire region of interest. Communications towers are unreliable and are put\n",
    "up independently and at random. You have no control over where or how big a tower’s\n",
    "footprint is placed. Importantly, due to technical issues such as cross-talk, no individual\n",
    "rectangular subsection can have multiple towers providing coverage for it. That is, there can\n",
    "be no overlap between any pair of rectangular subsections provided by the two respective\n",
    "towers. In any case, the desire is to maximize the coverage area of any available\n",
    "communications tower.\n",
    "\n",
    "The order of when the towers come online is important. Once a tower has acquired its\n",
    "rectangular section, no subsequent tower can overlap that section. You may assume the\n",
    "following for this problem:\n",
    "* All rectangular sections have integer-based corners.\n",
    "* All rectangular sections must be contained in the overall rectangular footprint.\n",
    "* The height and width of each rectangular section is sampled from a uniform\n",
    "distribution.\n",
    "* Positions of the windows are also determined by uniform random distribution.\n",
    "* All footprints must be rectangles (not general polygons).\n",
    "* When a new tower comes online, if its coverage rectangle intersects the pre-existing\n",
    "composite footprint, then that new tower’s coverage is trimmed such that its\n",
    "maximum remaining coverage area is retained (see sequential diagram below)."
   ]
  },
  {
   "cell_type": "markdown",
   "metadata": {},
   "source": [
    "Write a detailed Jupyter notebook that implements a solution to this problem such that the\n",
    "user can supply the following overall size of desired coverage footprint and then determine\n",
    "the following:\n",
    "* Given an overall desired coverage footprint and a sequence of n communications\n",
    "towers, what is the resulting resolved coverage?\n",
    "* What is the total area of coverage relative to the desired total coverage area of the\n",
    "original footprint? That is, are there any gaps in coverage?\n",
    "* On average, how many communications towers are required before full coverage is\n",
    "obtained?"
   ]
  },
  {
   "cell_type": "markdown",
   "metadata": {},
   "source": [
    "## Analysis on the Problem"
   ]
  },
  {
   "cell_type": "markdown",
   "metadata": {},
   "source": [
    "Approach\n",
    "* Functions\n",
    "    * coverage_generation_random() # Generate a list of towers by inputting the desired coverage. \n",
    "    * coverage_generation() # Generate the coverage map by inputing the desired coverage and a sequence of n  communication towers. \n",
    "        * generate_canvas( ) # To create the canvas based on user input area\n",
    "        * generate_rand_num( ) # numpy.random.choice()\n",
    "        * place_tower() # Update the canvas by placing the tower\n",
    "        * find_max_rect( ) # Find the maximum non-overlappying rectangle on the canva.\n",
    "    * avg_tower_need( ) # Calculate the average number of towers needed for given desired coverage (question 3)\n",
    "    "
   ]
  },
  {
   "cell_type": "code",
   "execution_count": null,
   "metadata": {},
   "outputs": [],
   "source": []
  },
  {
   "cell_type": "markdown",
   "metadata": {},
   "source": [
    "## Solution to the Problem"
   ]
  },
  {
   "cell_type": "code",
   "execution_count": 1,
   "metadata": {},
   "outputs": [
    {
     "data": {
      "text/plain": [
       "<module 'adhoc' from '/Users/shijia/Documents/@UCSD/Courses/Spring2018/ECE143/Individual-Project/ECE143-Individual-Project/packages/adhoc.pyc'>"
      ]
     },
     "execution_count": 1,
     "metadata": {},
     "output_type": "execute_result"
    }
   ],
   "source": [
    "import sys\n",
    "import os\n",
    "sys.path.append(os.path.join(os.getcwd(),\"packages\"))\n",
    "import adhoc\n",
    "import numpy as np\n",
    "reload(adhoc)"
   ]
  },
  {
   "cell_type": "code",
   "execution_count": 2,
   "metadata": {},
   "outputs": [
    {
     "data": {
      "text/plain": [
       "array([[0, 0, 0, 0, 0, 0, 0, 0],\n",
       "       [0, 0, 0, 0, 0, 0, 0, 0],\n",
       "       [0, 0, 0, 0, 0, 0, 0, 0],\n",
       "       [0, 0, 0, 0, 0, 0, 0, 0],\n",
       "       [0, 0, 0, 0, 0, 0, 0, 0],\n",
       "       [0, 0, 0, 0, 0, 0, 0, 0],\n",
       "       [0, 0, 0, 0, 0, 0, 0, 0],\n",
       "       [0, 0, 0, 0, 0, 0, 0, 0],\n",
       "       [0, 0, 0, 0, 0, 0, 0, 0],\n",
       "       [0, 0, 0, 0, 0, 0, 0, 0]])"
      ]
     },
     "execution_count": 2,
     "metadata": {},
     "output_type": "execute_result"
    }
   ],
   "source": [
    "region = adhoc.generate_region(10,8)\n",
    "region"
   ]
  },
  {
   "cell_type": "code",
   "execution_count": 3,
   "metadata": {},
   "outputs": [
    {
     "name": "stdout",
     "output_type": "stream",
     "text": [
      "{'loc': (3, 2), 'length': 6, 'width': 5}\n"
     ]
    },
    {
     "data": {
      "text/plain": [
       "array([[0, 0, 0, 0, 0, 0, 0, 0],\n",
       "       [0, 0, 0, 0, 0, 0, 0, 0],\n",
       "       [0, 0, 0, 0, 0, 0, 0, 0],\n",
       "       [0, 0, 1, 1, 1, 1, 1, 0],\n",
       "       [0, 0, 1, 1, 1, 1, 1, 0],\n",
       "       [0, 0, 1, 1, 1, 1, 1, 0],\n",
       "       [0, 0, 1, 1, 1, 1, 1, 0],\n",
       "       [0, 0, 1, 1, 1, 1, 1, 0],\n",
       "       [0, 0, 1, 1, 1, 1, 1, 0],\n",
       "       [0, 0, 0, 0, 0, 0, 0, 0]])"
      ]
     },
     "execution_count": 3,
     "metadata": {},
     "output_type": "execute_result"
    }
   ],
   "source": [
    "tower = adhoc.generate_tower(region.shape)\n",
    "print tower\n",
    "region_update = adhoc.place_tower(region, tower)\n",
    "region_update"
   ]
  },
  {
   "cell_type": "code",
   "execution_count": null,
   "metadata": {},
   "outputs": [],
   "source": []
  },
  {
   "cell_type": "code",
   "execution_count": 4,
   "metadata": {},
   "outputs": [
    {
     "name": "stdout",
     "output_type": "stream",
     "text": [
      "{'loc': (1, 0), 'length': 4, 'width': 5}\n"
     ]
    },
    {
     "data": {
      "text/plain": [
       "array([[0, 0, 0, 0, 0, 0, 0, 0],\n",
       "       [1, 1, 1, 1, 1, 0, 0, 0],\n",
       "       [1, 1, 1, 1, 1, 0, 0, 0],\n",
       "       [1, 1, 2, 2, 2, 1, 1, 0],\n",
       "       [1, 1, 2, 2, 2, 1, 1, 0],\n",
       "       [0, 0, 1, 1, 1, 1, 1, 0],\n",
       "       [0, 0, 1, 1, 1, 1, 1, 0],\n",
       "       [0, 0, 1, 1, 1, 1, 1, 0],\n",
       "       [0, 0, 1, 1, 1, 1, 1, 0],\n",
       "       [0, 0, 0, 0, 0, 0, 0, 0]])"
      ]
     },
     "execution_count": 4,
     "metadata": {},
     "output_type": "execute_result"
    }
   ],
   "source": [
    "tower = adhoc.generate_tower(region.shape)\n",
    "print tower\n",
    "region_update = adhoc.place_tower(region_update, tower)\n",
    "region_update"
   ]
  },
  {
   "cell_type": "code",
   "execution_count": null,
   "metadata": {},
   "outputs": [],
   "source": [
    "test = region_update.copy()\n",
    "\n",
    "print test\n",
    "#adhoc.trim_tower(test, tower)"
   ]
  },
  {
   "cell_type": "code",
   "execution_count": null,
   "metadata": {},
   "outputs": [],
   "source": [
    "reload(adhoc)\n",
    "#print test\n",
    "trimmed_tower = adhoc.trim_tower(test, tower)"
   ]
  },
  {
   "cell_type": "code",
   "execution_count": null,
   "metadata": {},
   "outputs": [],
   "source": [
    "reload(adhoc)\n",
    "A = adhoc.update_tower_coverage(region, trimmed_tower)\n",
    "print A\n"
   ]
  },
  {
   "cell_type": "code",
   "execution_count": null,
   "metadata": {},
   "outputs": [],
   "source": [
    "lala = [1,2,3]\n",
    "baba = lala\n",
    "baba.append(4)\n",
    "print id(lala) == id(baba)\n",
    "print \"lala = \", lala\n",
    "print \"baba = \", baba"
   ]
  },
  {
   "cell_type": "code",
   "execution_count": null,
   "metadata": {},
   "outputs": [],
   "source": []
  },
  {
   "cell_type": "code",
   "execution_count": null,
   "metadata": {},
   "outputs": [],
   "source": []
  },
  {
   "cell_type": "code",
   "execution_count": null,
   "metadata": {},
   "outputs": [],
   "source": []
  },
  {
   "cell_type": "code",
   "execution_count": null,
   "metadata": {},
   "outputs": [],
   "source": []
  },
  {
   "cell_type": "markdown",
   "metadata": {},
   "source": [
    "## Testing Cases"
   ]
  },
  {
   "cell_type": "markdown",
   "metadata": {},
   "source": [
    "####  Random Generation"
   ]
  },
  {
   "cell_type": "code",
   "execution_count": 13,
   "metadata": {},
   "outputs": [
    {
     "data": {
      "text/plain": [
       "array([[0, 0, 0, 0, 0, 0, 0, 0],\n",
       "       [0, 0, 0, 0, 0, 0, 0, 0],\n",
       "       [0, 0, 0, 0, 0, 0, 0, 0],\n",
       "       [0, 0, 0, 0, 0, 0, 0, 0],\n",
       "       [0, 0, 0, 0, 0, 0, 0, 0],\n",
       "       [0, 0, 0, 0, 0, 0, 0, 0],\n",
       "       [0, 0, 0, 0, 0, 0, 0, 0],\n",
       "       [0, 0, 0, 0, 0, 0, 0, 0],\n",
       "       [0, 0, 0, 0, 0, 0, 0, 0],\n",
       "       [0, 0, 0, 0, 0, 0, 0, 0]])"
      ]
     },
     "execution_count": 13,
     "metadata": {},
     "output_type": "execute_result"
    }
   ],
   "source": [
    "reload(adhoc)\n",
    "region = adhoc.generate_region(10,8)\n",
    "region"
   ]
  },
  {
   "cell_type": "markdown",
   "metadata": {},
   "source": [
    "#### Place the new tower and trim the coverage to provide the maximum coverage"
   ]
  },
  {
   "cell_type": "code",
   "execution_count": 17,
   "metadata": {},
   "outputs": [
    {
     "name": "stdout",
     "output_type": "stream",
     "text": [
      "Tower Generation: \n",
      "{'loc': (3, 7), 'length': 1, 'width': 1}\n",
      "The region after adding tower: \n",
      "[[0 0 0 0 0 0 0 0]\n",
      " [0 0 0 0 0 0 0 0]\n",
      " [0 0 0 0 0 0 0 0]\n",
      " [0 1 1 1 1 1 1 2]\n",
      " [0 1 1 1 1 1 1 1]\n",
      " [0 1 1 1 1 1 1 1]\n",
      " [0 1 1 1 1 0 0 0]\n",
      " [0 1 1 1 1 0 0 0]\n",
      " [0 0 0 0 1 0 0 0]\n",
      " [0 0 0 0 1 0 0 0]]\n",
      "Trimed Tower Area:  0\n",
      "The updated region coverage: \n",
      "[[0 0 0 0 0 0 0 0]\n",
      " [0 0 0 0 0 0 0 0]\n",
      " [0 0 0 0 0 0 0 0]\n",
      " [0 1 1 1 1 1 1 1]\n",
      " [0 1 1 1 1 1 1 1]\n",
      " [0 1 1 1 1 1 1 1]\n",
      " [0 1 1 1 1 0 0 0]\n",
      " [0 1 1 1 1 0 0 0]\n",
      " [0 0 0 0 1 0 0 0]\n",
      " [0 0 0 0 1 0 0 0]]\n"
     ]
    }
   ],
   "source": [
    "# Repeat till the whole region has been covered with communication tower\n",
    "tower = adhoc.generate_tower(region.shape)\n",
    "print \"Tower Generation: \\n\", tower\n",
    "\n",
    "region_update = adhoc.place_tower(region, tower)\n",
    "print \"The region after adding tower: \\n\", region_update\n",
    "\n",
    "tower_area, tower_loc_new = adhoc.trim_tower(region_update, tower, show_coverage_update=True)\n",
    "\n",
    "\n",
    "region = adhoc.place_tower(region, tower_loc_new)\n",
    "print \"The updated region coverage: \\n\", region"
   ]
  },
  {
   "cell_type": "code",
   "execution_count": null,
   "metadata": {},
   "outputs": [],
   "source": []
  },
  {
   "cell_type": "code",
   "execution_count": null,
   "metadata": {},
   "outputs": [],
   "source": []
  },
  {
   "cell_type": "code",
   "execution_count": null,
   "metadata": {},
   "outputs": [],
   "source": []
  },
  {
   "cell_type": "code",
   "execution_count": null,
   "metadata": {},
   "outputs": [],
   "source": []
  },
  {
   "cell_type": "code",
   "execution_count": null,
   "metadata": {},
   "outputs": [],
   "source": [
    "region = np.array([[0, 0, 0, 0, 0, 0, 0, 0, 0, 0],\n",
    "                   [0, 1, 1, 1, 1, 0, 0, 0, 0, 0],\n",
    "                   [0, 1, 1, 1, 1, 0, 0, 0, 0, 0],\n",
    "                   [0, 1, 1, 1, 1, 0, 0, 0, 0, 0],\n",
    "                   [0, 1, 1, 1, 1, 0, 0, 0, 0, 0],\n",
    "                   [0, 1, 1, 1, 1, 0, 0, 0, 0, 0],\n",
    "                   [0, 0, 0, 0, 0, 0, 0, 0, 0, 0],\n",
    "                   [0, 0, 0, 0, 0, 0, 0,0, 0, 0],\n",
    "                   [0, 0, 0, 0, 0, 0, 0, 0, 0, 0],\n",
    "                   [0, 0, 0, 0, 0, 0, 0, 0, 0, 0]])\n",
    "region"
   ]
  },
  {
   "cell_type": "markdown",
   "metadata": {},
   "source": [
    "## Conclusion"
   ]
  },
  {
   "cell_type": "code",
   "execution_count": null,
   "metadata": {},
   "outputs": [],
   "source": []
  }
 ],
 "metadata": {
  "kernelspec": {
   "display_name": "Python 2",
   "language": "python",
   "name": "python2"
  },
  "language_info": {
   "codemirror_mode": {
    "name": "ipython",
    "version": 2
   },
   "file_extension": ".py",
   "mimetype": "text/x-python",
   "name": "python",
   "nbconvert_exporter": "python",
   "pygments_lexer": "ipython2",
   "version": "2.7.14"
  }
 },
 "nbformat": 4,
 "nbformat_minor": 2
}
